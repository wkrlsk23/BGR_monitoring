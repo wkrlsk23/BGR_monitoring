{
 "cells": [
  {
   "cell_type": "code",
   "execution_count": 1,
   "id": "174c5d48",
   "metadata": {},
   "outputs": [],
   "source": [
    "import pandas as pd\n",
    "import matplotlib.pyplot as plt\n",
    "import matplotlib.font_manager as fm\n",
    "import os"
   ]
  },
  {
   "cell_type": "code",
   "execution_count": 2,
   "id": "594c60d9",
   "metadata": {},
   "outputs": [],
   "source": [
    "def plot_temperature_data():\n",
    "    \"\"\"\n",
    "    CSV와 TXT 파일을 읽어 지점별 평균 기온 및 수온 그래프를 생성합니다.\n",
    "    \"\"\"\n",
    "    try:\n",
    "        font_path = 'c:/Windows/Fonts/malgun.ttf'\n",
    "        font_prop = fm.FontProperties(fname=font_path).get_name()\n",
    "        plt.rc('font', family=font_prop)\n",
    "    except FileNotFoundError:\n",
    "        print(\"지정된 경로에 폰트 파일이 없습니다. 시스템에 맞는 한글 폰트 경로를 설정해주세요.\")\n",
    "        print(\"그래프의 한글이 깨질 수 있습니다.\")\n",
    "        plt.rc('font', family='sans-serif')\n",
    "\n",
    "    plt.rcParams['axes.unicode_minus'] = False\n",
    "\n",
    "    try:\n",
    "        locations_df = pd.read_csv('./jeju_data/location.txt', sep='\\t', header=None, names=['code', '지점', 'description'])\n",
    "        data_df = pd.read_csv('./jeju_data/JeJu_data.csv')\n",
    "    except FileNotFoundError as e:\n",
    "        print(f\"오류: {e}. 'data.csv' 또는 'location.txt' 파일이 코드와 같은 경로에 있는지 확인하세요.\")\n",
    "        return\n",
    "\n",
    "    data_df['일시'] = pd.to_datetime(data_df['일시'])\n",
    "    data_df.to_pickle('jeju_data/pickle/jeju_water_temperature.pkl')\n",
    "\n",
    "    sorted_locations = locations_df['code'].tolist()\n",
    "    sorted_location_names = locations_df['지점'].tolist()\n",
    "    if not os.path.exists('graphs'):\n",
    "        os.makedirs('graphs')\n",
    "\n",
    "    print(\"지점별 그래프 생성을 시작합니다...\")\n",
    "\n",
    "    for location_code, location_name in list(zip(sorted_locations, sorted_location_names)):\n",
    "        location_data = data_df[data_df['지점'] == location_code].copy()\n",
    "\n",
    "        if location_data.empty:\n",
    "            print(f\"'{location_code}'에 대한 데이터가 csv 파일에 없습니다. 건너뜁니다.\")\n",
    "            continue\n",
    "\n",
    "        location_data.sort_values('일시', inplace=True)\n",
    "\n",
    "        plt.figure(figsize=(12, 6))\n",
    "\n",
    "        plt.plot(location_data['일시'], location_data['평균 기온(°C)'], marker='o', linestyle='-', label='평균 기온(°C)', markersize=1)\n",
    "        plt.plot(location_data['일시'], location_data['평균 수온(°C)'], marker='s', linestyle='--', label='평균 수온(°C)', markersize=1)\n",
    "        plt.title(f'{location_name} 지점별 평균 기온 및 수온 변화', fontsize=16)\n",
    "        plt.xlabel('일시', fontsize=12)\n",
    "        plt.ylabel('온도 (°C)', fontsize=12)\n",
    "        plt.legend()\n",
    "        plt.grid(True)\n",
    "        plt.xticks(rotation=45)\n",
    "        plt.tight_layout()\n",
    "\n",
    "        file_name = f\"jeju_data/graphs/{location_name}_온도_그래프.png\"\n",
    "        plt.savefig(file_name)\n",
    "        plt.close()\n",
    "\n",
    "        print(f\"'{file_name}'으로 그래프가 저장되었습니다.\")\n",
    "\n",
    "    print(\"\\n모든 지점의 그래프 생성이 완료되었습니다.\")\n"
   ]
  },
  {
   "cell_type": "code",
   "execution_count": 3,
   "id": "aa6b6fe3",
   "metadata": {},
   "outputs": [
    {
     "name": "stdout",
     "output_type": "stream",
     "text": [
      "지점별 그래프 생성을 시작합니다...\n",
      "'jeju_data/graphs/남해239_온도_그래프.png'으로 그래프가 저장되었습니다.\n",
      "'jeju_data/graphs/남해244_온도_그래프.png'으로 그래프가 저장되었습니다.\n",
      "'jeju_data/graphs/남해465_온도_그래프.png'으로 그래프가 저장되었습니다.\n",
      "'jeju_data/graphs/마라도_온도_그래프.png'으로 그래프가 저장되었습니다.\n",
      "'jeju_data/graphs/서귀포_온도_그래프.png'으로 그래프가 저장되었습니다.\n",
      "\n",
      "모든 지점의 그래프 생성이 완료되었습니다.\n"
     ]
    }
   ],
   "source": [
    "plot_temperature_data()"
   ]
  }
 ],
 "metadata": {
  "kernelspec": {
   "display_name": ".venv",
   "language": "python",
   "name": "python3"
  },
  "language_info": {
   "codemirror_mode": {
    "name": "ipython",
    "version": 3
   },
   "file_extension": ".py",
   "mimetype": "text/x-python",
   "name": "python",
   "nbconvert_exporter": "python",
   "pygments_lexer": "ipython3",
   "version": "3.11.9"
  }
 },
 "nbformat": 4,
 "nbformat_minor": 5
}
