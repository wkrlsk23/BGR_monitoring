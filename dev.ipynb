{
 "cells": [
  {
   "cell_type": "markdown",
   "id": "dc982066",
   "metadata": {},
   "source": [
    "### 0. 함수 import"
   ]
  },
  {
   "cell_type": "code",
   "execution_count": 1,
   "id": "448ce7d2",
   "metadata": {},
   "outputs": [],
   "source": [
    "import pandas as pd\n",
    "import os"
   ]
  },
  {
   "cell_type": "markdown",
   "id": "0edaed4d",
   "metadata": {},
   "source": [
    "### 1-1. df 시계열 온더 데이터 불러오기"
   ]
  },
  {
   "cell_type": "code",
   "execution_count": null,
   "id": "e31f8a8d",
   "metadata": {},
   "outputs": [],
   "source": [
    "# 이 부분은 changable. 데이터를 불러오는 단계\n",
    "folder_path = './data_temp'  # CSV 파일이 있는 폴더 경로\n",
    "csv_files = [f for f in os.listdir(folder_path) if f.endswith('.csv')]\n",
    "dataframes = []\n",
    "for f in csv_files:\n",
    "    file_path = os.path.join(folder_path, f)\n",
    "    df_temp = pd.read_csv(file_path, dtype={8: str,16: str})\n",
    "    dataframes.append(df_temp)\n",
    "\n",
    "df = pd.concat(dataframes, ignore_index=True)"
   ]
  },
  {
   "cell_type": "code",
   "execution_count": null,
   "id": "30b6dc80",
   "metadata": {},
   "outputs": [],
   "source": [
    "# 1-2. 데이터 기본 구조 및 통계량 확인 (결측치, 이상치 등 개요 파악)\n",
    "print(df.info())\n",
    "print(df.describe())\n",
    "print(\"결측치 개수:\\n\", df.isnull().sum())\n",
    "\n",
    "# 1-3. 결측치 식별 및 적절한 방법으로 처리 (예: 선형 보간법으로 대체)\n",
    "df = df.interpolate(method='linear')\n",
    "\n",
    "# 1-4. 이상치 탐지 및 처리 방안 결정 후 실행 (예: IQR 방법으로 이상치 제거)\n",
    "Q1 = df.quantile(0.25)\n",
    "Q3 = df.quantile(0.75)\n",
    "IQR = Q3 - Q1\n",
    "is_outlier = (df < (Q1 - 1.5 * IQR)) | (df > (Q3 + 1.5 * IQR))\n",
    "df[is_outlier] = None\n",
    "df = df.interpolate(method='linear')\n",
    "\n",
    "# 1-5. 전처리 완료된 데이터셋 저장 또는 변수 할당\n",
    "df_cleaned = df.copy()\n",
    "df_cleaned.to_csv('temperature_timeseries_cleaned.csv')"
   ]
  }
 ],
 "metadata": {
  "kernelspec": {
   "display_name": ".venv",
   "language": "python",
   "name": "python3"
  },
  "language_info": {
   "codemirror_mode": {
    "name": "ipython",
    "version": 3
   },
   "file_extension": ".py",
   "mimetype": "text/x-python",
   "name": "python",
   "nbconvert_exporter": "python",
   "pygments_lexer": "ipython3",
   "version": "3.11.9"
  }
 },
 "nbformat": 4,
 "nbformat_minor": 5
}
